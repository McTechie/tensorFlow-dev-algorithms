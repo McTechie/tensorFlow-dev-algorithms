{
 "cells": [
  {
   "cell_type": "code",
   "execution_count": 1,
   "metadata": {
    "colab": {},
    "colab_type": "code",
    "id": "wYtuKeK0dImp"
   },
   "outputs": [],
   "source": [
    "import csv\n",
    "import numpy as np\n",
    "import tensorflow as tf\n",
    "from tensorflow.keras.preprocessing.image import ImageDataGenerator\n",
    "from os import getcwd"
   ]
  },
  {
   "cell_type": "code",
   "execution_count": 2,
   "metadata": {
    "colab": {},
    "colab_type": "code",
    "id": "4kxw-_rmcnVu"
   },
   "outputs": [
    {
     "name": "stdout",
     "output_type": "stream",
     "text": [
      "(27455, 28, 28)\n",
      "(27455,)\n",
      "(7172, 28, 28)\n",
      "(7172,)\n"
     ]
    }
   ],
   "source": [
    "def get_data(filename):\n",
    "    \n",
    "    # You will need to write code that will read the file passed\n",
    "    # into this function. The first line contains the column headers\n",
    "    # so you should ignore it\n",
    "    # Each successive line contians 785 comma separated values between 0 and 255\n",
    "    # The first value is the label\n",
    "    # The rest are the pixel values for that picture\n",
    "    # The function will return 2 np.array types. One with all the labels\n",
    "    # One with all the images\n",
    "\n",
    "    with open(filename) as training_file:\n",
    "        reader = csv.reader(training_file, delimiter=',')    \n",
    "        imgs = []\n",
    "        labels = []\n",
    "\n",
    "        next(reader, None)\n",
    "        \n",
    "        for row in reader:\n",
    "            label = row[0]\n",
    "            data = row[1:]\n",
    "            img = np.array(data).reshape((28, 28))\n",
    "\n",
    "            imgs.append(img)\n",
    "            labels.append(label)\n",
    "\n",
    "        images = np.array(imgs).astype(float)\n",
    "        labels = np.array(labels).astype(float)\n",
    "        \n",
    "    return images, labels\n",
    "\n",
    "path_sign_mnist_train = f\"{getcwd()}/../tmp2/sign_mnist_train.csv\"\n",
    "path_sign_mnist_test = f\"{getcwd()}/../tmp2/sign_mnist_test.csv\"\n",
    "training_images, training_labels = get_data(path_sign_mnist_train)\n",
    "testing_images, testing_labels = get_data(path_sign_mnist_test)\n",
    "\n",
    "# Keep these\n",
    "print(training_images.shape)\n",
    "print(training_labels.shape)\n",
    "print(testing_images.shape)\n",
    "print(testing_labels.shape)"
   ]
  },
  {
   "cell_type": "code",
   "execution_count": 3,
   "metadata": {
    "colab": {},
    "colab_type": "code",
    "id": "awoqRpyZdQkD"
   },
   "outputs": [
    {
     "name": "stdout",
     "output_type": "stream",
     "text": [
      "(27455, 28, 28, 1)\n",
      "(7172, 28, 28, 1)\n"
     ]
    }
   ],
   "source": [
    "# In this section you will have to add another dimension to the data\n",
    "# So, for example, if your array is (10000, 28, 28)\n",
    "# You will need to make it (10000, 28, 28, 1)\n",
    "\n",
    "training_images = np.expand_dims(training_images, axis=3)\n",
    "testing_images = np.expand_dims(testing_images, axis=3)\n",
    "\n",
    "# Create an ImageDataGenerator and do Image Augmentation\n",
    "train_datagen = ImageDataGenerator(\n",
    "    rescale=1. / 255,\n",
    "    rotation_range=40,\n",
    "    width_shift_range=0.2,\n",
    "    height_shift_range=0.2,\n",
    "    shear_range=0.2,\n",
    "    zoom_range=0.2,\n",
    "    horizontal_flip=True,\n",
    "    fill_mode='nearest'\n",
    ")\n",
    "\n",
    "validation_datagen = ImageDataGenerator(\n",
    "    rescale=1 / 255\n",
    ")\n",
    "    \n",
    "# Keep These\n",
    "print(training_images.shape)\n",
    "print(testing_images.shape)"
   ]
  },
  {
   "cell_type": "code",
   "execution_count": 4,
   "metadata": {
    "colab": {},
    "colab_type": "code",
    "id": "Rmb7S32cgRqS"
   },
   "outputs": [
    {
     "name": "stdout",
     "output_type": "stream",
     "text": [
      "Epoch 1/20\n",
      "429/429 [==============================] - 41s 96ms/step - loss: 2.9900 - acc: 0.0891 - val_loss: 2.5040 - val_acc: 0.1959\n",
      "Epoch 2/20\n",
      "429/429 [==============================] - 39s 90ms/step - loss: 2.5365 - acc: 0.2075 - val_loss: 2.2197 - val_acc: 0.2174\n",
      "Epoch 3/20\n",
      "429/429 [==============================] - 38s 89ms/step - loss: 2.1692 - acc: 0.3034 - val_loss: 1.6851 - val_acc: 0.4290\n",
      "Epoch 4/20\n",
      "429/429 [==============================] - 39s 90ms/step - loss: 1.8917 - acc: 0.3834 - val_loss: 1.4075 - val_acc: 0.5277\n",
      "Epoch 5/20\n",
      "429/429 [==============================] - 37s 87ms/step - loss: 1.7315 - acc: 0.4356 - val_loss: 1.3057 - val_acc: 0.5489\n",
      "Epoch 6/20\n",
      "429/429 [==============================] - 37s 86ms/step - loss: 1.5707 - acc: 0.4839 - val_loss: 1.1484 - val_acc: 0.5933\n",
      "Epoch 7/20\n",
      "429/429 [==============================] - 37s 86ms/step - loss: 1.4740 - acc: 0.5128 - val_loss: 1.0817 - val_acc: 0.6240\n",
      "Epoch 8/20\n",
      "429/429 [==============================] - 37s 87ms/step - loss: 1.3758 - acc: 0.5460 - val_loss: 1.1562 - val_acc: 0.5955\n",
      "Epoch 9/20\n",
      "429/429 [==============================] - 37s 87ms/step - loss: 1.2880 - acc: 0.5702 - val_loss: 1.0283 - val_acc: 0.6560\n",
      "Epoch 10/20\n",
      "429/429 [==============================] - 37s 87ms/step - loss: 1.2085 - acc: 0.5944 - val_loss: 0.8544 - val_acc: 0.7098\n",
      "Epoch 11/20\n",
      "429/429 [==============================] - 37s 86ms/step - loss: 1.1593 - acc: 0.6109 - val_loss: 0.7402 - val_acc: 0.7381\n",
      "Epoch 12/20\n",
      "429/429 [==============================] - 38s 88ms/step - loss: 1.1161 - acc: 0.6298 - val_loss: 0.8871 - val_acc: 0.6771\n",
      "Epoch 13/20\n",
      "429/429 [==============================] - 39s 91ms/step - loss: 1.0682 - acc: 0.6388 - val_loss: 0.7242 - val_acc: 0.7575\n",
      "Epoch 14/20\n",
      "429/429 [==============================] - 40s 92ms/step - loss: 1.0357 - acc: 0.6491 - val_loss: 0.6223 - val_acc: 0.7783\n",
      "Epoch 15/20\n",
      "429/429 [==============================] - 39s 91ms/step - loss: 1.0010 - acc: 0.6638 - val_loss: 0.6315 - val_acc: 0.7738\n",
      "Epoch 16/20\n",
      "429/429 [==============================] - 39s 90ms/step - loss: 0.9647 - acc: 0.6752 - val_loss: 0.7021 - val_acc: 0.7547\n",
      "Epoch 17/20\n",
      "429/429 [==============================] - 38s 88ms/step - loss: 0.9297 - acc: 0.6883 - val_loss: 0.6115 - val_acc: 0.7900\n",
      "Epoch 18/20\n",
      "429/429 [==============================] - 37s 87ms/step - loss: 0.9131 - acc: 0.6913 - val_loss: 0.6366 - val_acc: 0.7499\n",
      "Epoch 19/20\n",
      "429/429 [==============================] - 39s 90ms/step - loss: 0.8769 - acc: 0.7027 - val_loss: 0.5779 - val_acc: 0.7868\n",
      "Epoch 20/20\n",
      "429/429 [==============================] - 38s 89ms/step - loss: 0.8590 - acc: 0.7107 - val_loss: 0.5330 - val_acc: 0.8197\n"
     ]
    },
    {
     "data": {
      "text/plain": [
       "[213.48724947332073, 0.52607363]"
      ]
     },
     "execution_count": 4,
     "metadata": {},
     "output_type": "execute_result"
    }
   ],
   "source": [
    "# Define the model\n",
    "model = tf.keras.models.Sequential([\n",
    "    tf.keras.layers.Conv2D(16, (3,3), activation='relu', input_shape=(28, 28, 1)),\n",
    "    tf.keras.layers.MaxPooling2D(2,2),\n",
    "    tf.keras.layers.Conv2D(32, (3,3), activation='relu'),\n",
    "    tf.keras.layers.MaxPooling2D(2,2),\n",
    "    tf.keras.layers.Conv2D(64, (3,3), activation='relu'),\n",
    "    tf.keras.layers.MaxPooling2D(2,2),\n",
    "    tf.keras.layers.Flatten(),\n",
    "    tf.keras.layers.Dense(512, activation='relu'),\n",
    "    tf.keras.layers.Dense(26, activation='softmax')\n",
    "])\n",
    "\n",
    "# Compile Model. \n",
    "model.compile(\n",
    "    optimizer='adam',\n",
    "    loss='sparse_categorical_crossentropy',\n",
    "    metrics=['acc']\n",
    ")\n",
    "\n",
    "# Configure generators\n",
    "train_gen = train_datagen.flow(\n",
    "    training_images,\n",
    "    training_labels,\n",
    "    batch_size=64\n",
    ")\n",
    "\n",
    "val_gen = validation_datagen.flow(\n",
    "    testing_images,\n",
    "    testing_labels,\n",
    "    batch_size=64\n",
    ")\n",
    "\n",
    "# Train the Model\n",
    "history = model.fit_generator(\n",
    "    train_gen,\n",
    "    epochs=20,\n",
    "    validation_data=val_gen\n",
    ")\n",
    "\n",
    "model.evaluate(testing_images, testing_labels, verbose=0)"
   ]
  },
  {
   "cell_type": "code",
   "execution_count": 5,
   "metadata": {
    "colab": {},
    "colab_type": "code",
    "id": "_Q3Zpr46dsij"
   },
   "outputs": [
    {
     "data": {
      "image/png": "[encoded data removed]",
      "text/plain": [
       "<Figure size 432x288 with 1 Axes>"
      ]
     },
     "metadata": {
      "needs_background": "light"
     },
     "output_type": "display_data"
    },
    {
     "data": {
      "image/png": "[encoded data removed]",
      "text/plain": [
       "<Figure size 432x288 with 1 Axes>"
      ]
     },
     "metadata": {
      "needs_background": "light"
     },
     "output_type": "display_data"
    }
   ],
   "source": [
    "# Plot the chart for accuracy and loss on both training and validation\n",
    "%matplotlib inline\n",
    "import matplotlib.pyplot as plt\n",
    "acc = history.history['acc']\n",
    "val_acc = history.history['val_acc']\n",
    "loss = history.history['loss']\n",
    "val_loss = history.history['val_loss']\n",
    "\n",
    "epochs = range(len(acc))\n",
    "\n",
    "plt.plot(epochs, acc, 'r', label='Training accuracy')\n",
    "plt.plot(epochs, val_acc, 'b', label='Validation accuracy')\n",
    "plt.title('Training and validation accuracy')\n",
    "plt.legend()\n",
    "plt.figure()\n",
    "\n",
    "plt.plot(epochs, loss, 'r', label='Training Loss')\n",
    "plt.plot(epochs, val_loss, 'b', label='Validation Loss')\n",
    "plt.title('Training and validation loss')\n",
    "plt.legend()\n",
    "\n",
    "plt.show()"
   ]
  }
 ],
 "metadata": {
  "colab": {
   "name": "Exercise 8 - Question.ipynb",
   "provenance": []
  },
  "coursera": {
   "course_slug": "convolutional-neural-networks-tensorflow",
   "graded_item_id": "8mIh8",
   "launcher_item_id": "gg95t"
  },
  "kernelspec": {
   "display_name": "Python 3",
   "language": "python",
   "name": "python3"
  },
  "language_info": {
   "codemirror_mode": {
    "name": "ipython",
    "version": 3
   },
   "file_extension": ".py",
   "mimetype": "text/x-python",
   "name": "python",
   "nbconvert_exporter": "python",
   "pygments_lexer": "ipython3",
   "version": "3.6.8"
  }
 },
 "nbformat": 4,
 "nbformat_minor": 1
}
